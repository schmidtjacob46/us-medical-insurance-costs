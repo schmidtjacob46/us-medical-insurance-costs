{
 "cells": [
  {
   "cell_type": "markdown",
   "metadata": {},
   "source": [
    "# U.S. Medical Insurance Costs\n",
    "\n",
    "In this project, a **CSV** file with medical insurance costs will be investigated using Python fundamentals. The goal with this project will be to analyze various attributes within **insurance.csv** to learn more about the patient information in the file and gain insight into potential use cases for the dataset."
   ]
  },
  {
   "cell_type": "code",
   "execution_count": 5,
   "metadata": {},
   "outputs": [],
   "source": [
    "import csv\n",
    "\n",
    "# Initialize a list to hold the dictionaries\n",
    "data_list = []\n",
    "\n",
    "# Read the CSV file\n",
    "with open('insurance.csv', mode='r') as file:\n",
    "    reader = csv.DictReader(file)\n",
    "    for row in reader:\n",
    "        # Convert specific fields to appropriate data types\n",
    "        row['age'] = int(row['age'])\n",
    "        row['bmi'] = float(row['bmi'])\n",
    "        row['children'] = int(row['children'])\n",
    "        row['charges'] = float(row['charges'])\n",
    "        data_list.append(row)\n",
    "\n",
    "# Convert list of dictionaries to a dictionary with an identifier as key (e.g., row index)\n",
    "data_dict = {i: row for i, row in enumerate(data_list)}\n"
   ]
  },
  {
   "cell_type": "markdown",
   "metadata": {},
   "source": [
    "To start the necessarry csv library was imported to read in the insurance file.  The `insurance.csv` file is read and converted into a structured dictionary. Each row is processed to convert specific fields (`age`, `bmi`, `children`, `charges`) to the correct data types. These rows are first stored in a list, then transformed into a dictionary with row indices as keys. This structured format facilitates easier data manipulation and analysis."
   ]
  },
  {
   "cell_type": "markdown",
   "metadata": {},
   "source": [
    "Now the data is organized and ready to analyze, the next step is to define functions to begin investigating trends in the data."
   ]
  },
  {
   "cell_type": "code",
   "execution_count": 6,
   "metadata": {},
   "outputs": [
    {
     "name": "stdout",
     "output_type": "stream",
     "text": [
      "The average cost of insurance is: 13270.42\n",
      "The average age: 39.21\n",
      "The average number of children is: 1.09\n",
      "The average bmi is: 30.66\n"
     ]
    }
   ],
   "source": [
    "def average_variable(insurance_x):\n",
    "    total = 0\n",
    "    for record in data_dict:\n",
    "        variable = data_dict[record][insurance_x]\n",
    "        total += variable\n",
    "    average = total/len(data_dict)\n",
    "    return average\n",
    "print(\"The average cost of insurance is: \" + str(round(average_variable('charges'),2)))\n",
    "print(\"The average age: \" + str(round(average_variable('age'),2)))\n",
    "print(\"The average number of children is: \" + str(round(average_variable('children'),2)))\n",
    "print(\"The average bmi is: \" + str(round(average_variable('bmi'),2)))"
   ]
  },
  {
   "cell_type": "markdown",
   "metadata": {},
   "source": [
    "The function `average_variable` was defined. The function calculates the average of a specified variable (insurance_x) from the data_dict. It then prints the average insurance cost, age, number of children, and BMI, rounded to two decimal places."
   ]
  },
  {
   "cell_type": "code",
   "execution_count": 7,
   "metadata": {},
   "outputs": [
    {
     "name": "stdout",
     "output_type": "stream",
     "text": [
      "(30.94, 30.38)\n"
     ]
    }
   ],
   "source": [
    "def average_bmi_by_sex(data_dict):\n",
    "    total_male_bmi = 0\n",
    "    total_males = 0\n",
    "    total_female_bmi = 0\n",
    "    total_females = 0\n",
    "    for record in data_dict:\n",
    "        sex = data_dict[record]['sex']\n",
    "        if sex == 'male':\n",
    "          total_male_bmi += data_dict[record]['bmi']\n",
    "          total_males += 1\n",
    "        elif sex == 'female':\n",
    "          total_female_bmi += data_dict[record]['bmi']\n",
    "          total_females += 1\n",
    "    average_male_bmi = round(total_male_bmi/total_males,2)\n",
    "    average_female_bmi = round(total_female_bmi/total_females,2)\n",
    "    return(average_male_bmi, average_female_bmi)\n",
    "print(average_bmi_by_sex(data_dict)) "
   ]
  },
  {
   "cell_type": "markdown",
   "metadata": {},
   "source": [
    "The function, `average_bmi_by_sex`, calculates and returns the average BMI for males and females separately from the `data_dict`. It then prints these average BMIs, rounded to two decimal places."
   ]
  },
  {
   "cell_type": "code",
   "execution_count": 8,
   "metadata": {},
   "outputs": [
    {
     "name": "stdout",
     "output_type": "stream",
     "text": [
      "{'southwest': 30.6, 'southeast': 33.35, 'northwest': 29.22, 'northeast': 29.17}\n"
     ]
    }
   ],
   "source": [
    "def bmi_by_region(data_dict):\n",
    "    region_bmi = {}\n",
    "    total_southwest_bmi = 0\n",
    "    total_southwest_records = 0\n",
    "    total_southeast_bmi = 0\n",
    "    total_southeast_records = 0\n",
    "    total_northwest_bmi = 0\n",
    "    total_northwest_records = 0\n",
    "    total_northeast_bmi = 0\n",
    "    total_northeast_records = 0\n",
    "    for record in data_dict:\n",
    "      region = data_dict[record]['region']\n",
    "      bmi = data_dict[record]['bmi']\n",
    "      if region not in region_bmi:\n",
    "        region_bmi[region] = 0\n",
    "      elif region in region_bmi:\n",
    "        if region == 'southwest':\n",
    "            total_southwest_bmi += bmi\n",
    "            total_southwest_records += 1\n",
    "            region_bmi['southwest'] = round(total_southwest_bmi/total_southwest_records, 2)\n",
    "        if region == 'southeast':\n",
    "            total_southeast_bmi += bmi\n",
    "            total_southeast_records += 1\n",
    "            region_bmi['southeast'] = round(total_southeast_bmi/total_southeast_records, 2)\n",
    "        if region == 'northwest':\n",
    "            total_northwest_bmi += bmi\n",
    "            total_northwest_records += 1\n",
    "            region_bmi['northwest'] = round(total_northwest_bmi/total_northwest_records, 2)\n",
    "        if region == 'northeast':\n",
    "            total_northeast_bmi += bmi\n",
    "            total_northeast_records += 1\n",
    "            region_bmi['northeast'] = round(total_northeast_bmi/total_northeast_records, 2)\n",
    "    return region_bmi\n",
    "print(bmi_by_region(data_dict))"
   ]
  },
  {
   "cell_type": "markdown",
   "metadata": {},
   "source": [
    "This code defines a function, `bmi_by_region`, which calculates the average BMI for each region (southwest, southeast, northwest, and northeast) from the provided data_dict. It iterates through the records, accumulating the total BMI and the count of records for each region. The averages are rounded to two decimal places and stored in a dictionary, which is then returned and printed."
   ]
  },
  {
   "cell_type": "markdown",
   "metadata": {},
   "source": [
    "# Summary\n",
    "\n",
    "The provided code snippets collectively demonstrate the process of reading, processing, and analyzing data from a CSV file named `insurance.csv`. The first snippet reads the CSV file and converts its contents into a dictionary of dictionaries (`data_dict`) with row indices as keys, ensuring proper data types for specific fields like `age`, `bmi`, `children`, and `charges`. \n",
    "\n",
    "The second snippet defines a function, `average_variable`, to calculate the average of a specified variable (e.g., `charges`, `age`, `children`, `bmi`) across all records in `data_dict` and prints the results.\n",
    "\n",
    "The third snippet introduces a function, `average_bmi_by_sex`, which computes the average BMI separately for males and females using `data_dict`, and prints these averages.\n",
    "\n",
    "The final snippet defines a function, `bmi_by_region`, which calculates the average BMI for each region (southwest, southeast, northwest, and northeast) by iterating through `data_dict`, and returns a dictionary with these regional averages, which is then printed.\n",
    "\n",
    "Together, these snippets illustrate a comprehensive workflow for reading, processing, and analyzing CSV data, including type conversion, averaging values, and categorizing data based on specific criteria like sex and region."
   ]
  },
  {
   "cell_type": "code",
   "execution_count": 9,
   "metadata": {},
   "outputs": [
    {
     "ename": "NameError",
     "evalue": "name 'getcwd' is not defined",
     "output_type": "error",
     "traceback": [
      "\u001b[1;31m---------------------------------------------------------------------------\u001b[0m",
      "\u001b[1;31mNameError\u001b[0m                                 Traceback (most recent call last)",
      "Cell \u001b[1;32mIn[9], line 1\u001b[0m\n\u001b[1;32m----> 1\u001b[0m getcwd()\n",
      "\u001b[1;31mNameError\u001b[0m: name 'getcwd' is not defined"
     ]
    }
   ],
   "source": [
    "getcwd()"
   ]
  }
 ],
 "metadata": {
  "kernelspec": {
   "display_name": "Python 3 (ipykernel)",
   "language": "python",
   "name": "python3"
  },
  "language_info": {
   "codemirror_mode": {
    "name": "ipython",
    "version": 3
   },
   "file_extension": ".py",
   "mimetype": "text/x-python",
   "name": "python",
   "nbconvert_exporter": "python",
   "pygments_lexer": "ipython3",
   "version": "3.11.7"
  }
 },
 "nbformat": 4,
 "nbformat_minor": 4
}
